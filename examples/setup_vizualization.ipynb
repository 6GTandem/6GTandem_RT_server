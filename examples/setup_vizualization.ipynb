{
 "cells": [
  {
   "cell_type": "code",
   "execution_count": 1,
   "id": "4bb72091",
   "metadata": {},
   "outputs": [
    {
     "name": "stderr",
     "output_type": "stream",
     "text": [
      "2025-06-19 09:12:41.836328: E external/local_xla/xla/stream_executor/cuda/cuda_fft.cc:467] Unable to register cuFFT factory: Attempting to register factory for plugin cuFFT when one has already been registered\n",
      "WARNING: All log messages before absl::InitializeLog() is called are written to STDERR\n",
      "E0000 00:00:1750324361.857885  675943 cuda_dnn.cc:8579] Unable to register cuDNN factory: Attempting to register factory for plugin cuDNN when one has already been registered\n",
      "E0000 00:00:1750324361.864529  675943 cuda_blas.cc:1407] Unable to register cuBLAS factory: Attempting to register factory for plugin cuBLAS when one has already been registered\n",
      "W0000 00:00:1750324361.882517  675943 computation_placer.cc:177] computation placer already registered. Please check linkage and avoid linking the same target more than once.\n",
      "W0000 00:00:1750324361.882542  675943 computation_placer.cc:177] computation placer already registered. Please check linkage and avoid linking the same target more than once.\n",
      "W0000 00:00:1750324361.882545  675943 computation_placer.cc:177] computation placer already registered. Please check linkage and avoid linking the same target more than once.\n",
      "W0000 00:00:1750324361.882547  675943 computation_placer.cc:177] computation placer already registered. Please check linkage and avoid linking the same target more than once.\n",
      "2025-06-19 09:12:41.888158: I tensorflow/core/platform/cpu_feature_guard.cc:210] This TensorFlow binary is optimized to use available CPU instructions in performance-critical operations.\n",
      "To enable the following instructions: AVX2 FMA, in other operations, rebuild TensorFlow with the appropriate compiler flags.\n"
     ]
    },
    {
     "name": "stdout",
     "output_type": "stream",
     "text": [
      "Sionna version: 1.0.2\n",
      "tf version: 2.19.0\n"
     ]
    }
   ],
   "source": [
    "import sionna.rt\n",
    "import time\n",
    "import tensorflow as tf\n",
    "import matplotlib.pyplot as plt\n",
    "import xarray as xr\n",
    "import numpy as np\n",
    "from tqdm import tqdm\n",
    "%matplotlib inline\n",
    "import os\n",
    "import sys\n",
    "from sionna.rt import load_scene, AntennaArray, PlanarArray, Transmitter, Receiver, Camera,\\\n",
    "                      PathSolver, RadioMapSolver, subcarrier_frequencies\n",
    "\n",
    "# Add the parent directory of 'examples' to the module search path (to get utils in src)\n",
    "sys.path.append(os.path.abspath(os.path.join(os.getcwd(), \"..\")))\n",
    "from src.utils import  load_config\n",
    "from src.ue_locations_generator import create_user_location_dataset\n",
    "import logging\n",
    "import datetime\n",
    "print(\"Sionna version:\", sionna.rt.__version__)\n",
    "print(\"tf version:\", tf.__version__)"
   ]
  },
  {
   "cell_type": "code",
   "execution_count": 2,
   "id": "4a425713",
   "metadata": {},
   "outputs": [
    {
     "name": "stdout",
     "output_type": "stream",
     "text": [
      "GPU: [PhysicalDevice(name='/physical_device:GPU:0', device_type='GPU'), PhysicalDevice(name='/physical_device:GPU:1', device_type='GPU')]\n",
      "2 Physical GPUs, 1 Logical GPU\n",
      "Using GPU: /physical_device:GPU:0\n"
     ]
    },
    {
     "name": "stderr",
     "output_type": "stream",
     "text": [
      "I0000 00:00:1750324364.612718  675943 gpu_device.cc:2019] Created device /job:localhost/replica:0/task:0/device:GPU:0 with 13741 MB memory:  -> device: 0, name: Tesla T4, pci bus id: 0000:01:00.0, compute capability: 7.5\n"
     ]
    }
   ],
   "source": [
    "gpus = tf.config.list_physical_devices('GPU')\n",
    "print(\"GPU:\", gpus)\n",
    "\n",
    "if gpus:\n",
    "  # Restrict TensorFlow to only use the first GPU\n",
    "  try:\n",
    "    tf.config.set_visible_devices(gpus[0], 'GPU') # only use the first GPU\n",
    "    logical_gpus = tf.config.list_logical_devices('GPU')\n",
    "    print(len(gpus), \"Physical GPUs,\", len(logical_gpus), \"Logical GPU\")\n",
    "    print(\"Using GPU:\", gpus[0].name)\n",
    "  except RuntimeError as e:\n",
    "    # Visible devices must be set before GPUs have been initialized\n",
    "    print(e)\n",
    "\n",
    "else:\n",
    "  print(\"No GPU found, using CPU.\")"
   ]
  },
  {
   "cell_type": "code",
   "execution_count": 3,
   "id": "7f2ba5a9",
   "metadata": {},
   "outputs": [
    {
     "name": "stdout",
     "output_type": "stream",
     "text": [
      "stripe 0, ru: 4, pos: [2.0, 4.5, 1.5] - point outside of zone: True\n",
      "stripe 0, ru: 5, pos: [2.0, 5.0, 1.5] - point outside of zone: True\n",
      "stripe 0, ru: 6, pos: [2.0, 5.5, 1.5] - point outside of zone: True\n",
      "stripe 0, ru: 24, pos: [2.0, 14.5, 1.5] - point outside of zone: True\n",
      "stripe 0, ru: 25, pos: [2.0, 15.0, 1.5] - point outside of zone: True\n",
      "stripe 0, ru: 26, pos: [2.0, 15.5, 1.5] - point outside of zone: True\n",
      "stripe 1, ru: 4, pos: [2.5, 4.5, 1.5] - point outside of zone: True\n",
      "stripe 1, ru: 5, pos: [2.5, 5.0, 1.5] - point outside of zone: True\n",
      "stripe 1, ru: 6, pos: [2.5, 5.5, 1.5] - point outside of zone: True\n",
      "stripe 1, ru: 24, pos: [2.5, 14.5, 1.5] - point outside of zone: True\n",
      "stripe 1, ru: 25, pos: [2.5, 15.0, 1.5] - point outside of zone: True\n",
      "stripe 1, ru: 26, pos: [2.5, 15.5, 1.5] - point outside of zone: True\n",
      "stripe 2, ru: 4, pos: [3.0, 4.5, 1.5] - point outside of zone: True\n",
      "stripe 2, ru: 5, pos: [3.0, 5.0, 1.5] - point outside of zone: True\n",
      "stripe 2, ru: 6, pos: [3.0, 5.5, 1.5] - point outside of zone: True\n",
      "stripe 2, ru: 24, pos: [3.0, 14.5, 1.5] - point outside of zone: True\n",
      "stripe 2, ru: 25, pos: [3.0, 15.0, 1.5] - point outside of zone: True\n",
      "stripe 2, ru: 26, pos: [3.0, 15.5, 1.5] - point outside of zone: True\n",
      "stripe 3, ru: 4, pos: [3.5, 4.5, 1.5] - point outside of zone: True\n",
      "stripe 3, ru: 5, pos: [3.5, 5.0, 1.5] - point outside of zone: True\n",
      "stripe 3, ru: 6, pos: [3.5, 5.5, 1.5] - point outside of zone: True\n",
      "stripe 3, ru: 24, pos: [3.5, 14.5, 1.5] - point outside of zone: True\n",
      "stripe 3, ru: 25, pos: [3.5, 15.0, 1.5] - point outside of zone: True\n",
      "stripe 3, ru: 26, pos: [3.5, 15.5, 1.5] - point outside of zone: True\n",
      "stripe 4, ru: 4, pos: [4.0, 4.5, 1.5] - point outside of zone: True\n",
      "stripe 4, ru: 5, pos: [4.0, 5.0, 1.5] - point outside of zone: True\n",
      "stripe 4, ru: 6, pos: [4.0, 5.5, 1.5] - point outside of zone: True\n",
      "stripe 4, ru: 24, pos: [4.0, 14.5, 1.5] - point outside of zone: True\n",
      "stripe 4, ru: 25, pos: [4.0, 15.0, 1.5] - point outside of zone: True\n",
      "stripe 4, ru: 26, pos: [4.0, 15.5, 1.5] - point outside of zone: True\n",
      "stripe 5, ru: 4, pos: [4.5, 4.5, 1.5] - point outside of zone: True\n",
      "stripe 5, ru: 5, pos: [4.5, 5.0, 1.5] - point outside of zone: True\n",
      "stripe 5, ru: 6, pos: [4.5, 5.5, 1.5] - point outside of zone: True\n",
      "stripe 5, ru: 24, pos: [4.5, 14.5, 1.5] - point outside of zone: True\n",
      "stripe 5, ru: 25, pos: [4.5, 15.0, 1.5] - point outside of zone: True\n",
      "stripe 5, ru: 26, pos: [4.5, 15.5, 1.5] - point outside of zone: True\n",
      "Zone 1: area: 102.1644 - 1 samples\n",
      "Zone 2: area: 33.1958 - 0 samples\n",
      "Zone 3: area: 30.750999999999998 - 0 samples\n",
      "Zone 4: area: 8.824200000000003 - 0 samples\n",
      "Total samples: 547\n",
      "Folder already exists: /home/user/6GTandem_RT_server/dataset_547_ue_locations/ue_locations\n",
      "Saved samples to /home/user/6GTandem_RT_server/dataset_547_ue_locations/ue_locations/ue_locations_547.nc\n"
     ]
    },
    {
     "data": {
      "text/html": [
       "<span style=\"font-family: monospace; color: #f55\">2025-06-19 09:12:45 WARN  wrk0  [HDRFilm] Monochrome mode enabled, setting film output pixel format to &apos;luminance&apos; (was rgb).</span>"
      ]
     },
     "metadata": {},
     "output_type": "display_data"
    }
   ],
   "source": [
    "# load config file\n",
    "config = load_config()\n",
    "# create user dataset\n",
    "dataset_path, ue_dataset_path = create_user_location_dataset(config)\n",
    "# load all ue positions\n",
    "ds_users = xr.load_dataset(ue_dataset_path)\n",
    "# load scene# Load scene\n",
    "scene = load_scene(config['paths']['scenepath']) "
   ]
  },
  {
   "cell_type": "code",
   "execution_count": 4,
   "id": "72e16000",
   "metadata": {},
   "outputs": [
    {
     "name": "stdout",
     "output_type": "stream",
     "text": [
      "number antennas per axis: 2\n"
     ]
    }
   ],
   "source": [
    "# configure tx and rx arrays\n",
    "N_antennas = config['antenna_config']['N_antennas_per_axis']\n",
    "print(f'number antennas per axis: {N_antennas}')\n",
    "\n",
    "scene.tx_array = PlanarArray(num_rows=N_antennas,\n",
    "                            num_cols=N_antennas,\n",
    "                            vertical_spacing=0.5,\n",
    "                            horizontal_spacing=0.5,\n",
    "                            pattern=config['antenna_config']['pattern'],\n",
    "                            polarization=config['antenna_config']['polarization'])\n",
    "\n",
    "# Configure antenna array for all receivers\n",
    "scene.rx_array = PlanarArray(num_rows=N_antennas,\n",
    "                            num_cols=N_antennas,\n",
    "                            vertical_spacing=0.5,\n",
    "                            horizontal_spacing=0.5,\n",
    "                            pattern=config['antenna_config']['pattern'],\n",
    "                            polarization=config['antenna_config']['polarization'])\n",
    "\n",
    "\n",
    "# sub-THz stripe specs \n",
    "stripe_start_pos = config['stripe_config']['stripe_start_pos']\n",
    "N_RUs = config['stripe_config']['N_RUs'] # adjust to size of the room (along y axis)\n",
    "N_stripes = config['stripe_config']['N_stripes']# adjust to size of the room (alang x axis)\n",
    "total_N_RUs = N_RUs * N_stripes # total number of radio units\n",
    "space_between_RUs = config['stripe_config']['space_between_RUs'] # in meters\n",
    "space_between_stripses = config['stripe_config']['space_between_stripes'] # in meters"
   ]
  },
  {
   "cell_type": "code",
   "execution_count": 5,
   "id": "a1dfc5bd",
   "metadata": {},
   "outputs": [
    {
     "name": "stderr",
     "output_type": "stream",
     "text": [
      "/tmp/ipykernel_675943/3578568748.py:3: FutureWarning: The return type of `Dataset.dims` will be changed to return a set of dimension names in future, in order to be more consistent with `DataArray.dims`. To access a mapping from dimension names to lengths, please use `Dataset.sizes`.\n",
      "  for ue_idx in range(ds_users.dims['user']):\n"
     ]
    }
   ],
   "source": [
    "# add users\n",
    "# loop over al ue postions\n",
    "for ue_idx in range(ds_users.dims['user']):\n",
    "\n",
    "    # get coordinates\n",
    "    x, y, z = ds_users.x.values[ue_idx], ds_users.y.values[ue_idx], ds_users.z.values[ue_idx]\n",
    "    ue_pos = [float(x), float(y), float(z)]\n",
    "\n",
    "    # Create a receiver\n",
    "    rx = Receiver(name=f\"rx_{ue_idx}\",\n",
    "                position=ue_pos,\n",
    "                display_radius=0.1,\n",
    "                color=(1, 0.937, 0.016)) #yellow\n",
    "    \n",
    "    # Point the receiver upwards\n",
    "    rx.look_at([ue_pos[0], ue_pos[1], 3.5]) # Receiver points upwards\n",
    "\n",
    "    # check orientation\n",
    "    #print(f'rx orientation: {rx.orientation}')\n",
    "\n",
    "    # Add receiver instance to scene\n",
    "    scene.add(rx)"
   ]
  },
  {
   "cell_type": "code",
   "execution_count": 6,
   "id": "cd31e045",
   "metadata": {},
   "outputs": [],
   "source": [
    "# add stripes\n",
    "# loop over all stripes\n",
    "for stripe_idx in range(N_stripes):\n",
    "    # loop over all RUs \n",
    "    for RU_idx in range(N_RUs):\n",
    "        # compute RU position\n",
    "        tx_pos = [stripe_start_pos[0] + stripe_idx * space_between_stripses,\n",
    "                stripe_start_pos[1] + RU_idx * space_between_RUs,\n",
    "                stripe_start_pos[2]]\n",
    "        \n",
    "        # Create RU transmitter instance\n",
    "        tx = Transmitter(name=f\"tx_stripe_{stripe_idx}_RU_{RU_idx}\",\n",
    "                    position=tx_pos,\n",
    "                    display_radius=0.1,\n",
    "                    color=[1, 0, 0])\n",
    "\n",
    "        # Add RU transmitter instance to scene\n",
    "        scene.add(tx)\n",
    "\n",
    "        # Point the transmitter downwards\n",
    "        tx.look_at([tx_pos[0], tx_pos[1], 0]) # Transmitter points downwards\n"
   ]
  },
  {
   "cell_type": "code",
   "execution_count": 7,
   "id": "bbed63ec",
   "metadata": {},
   "outputs": [
    {
     "data": {
      "application/vnd.jupyter.widget-view+json": {
       "model_id": "7e723cf5830144fab34d6e8b8d311beb",
       "version_major": 2,
       "version_minor": 0
      },
      "text/plain": [
       "HBox(children=(Renderer(camera=PerspectiveCamera(aspect=1.31, children=(DirectionalLight(intensity=0.25, posit…"
      ]
     },
     "metadata": {},
     "output_type": "display_data"
    }
   ],
   "source": [
    "scene.preview();"
   ]
  }
 ],
 "metadata": {
  "kernelspec": {
   "display_name": "venv",
   "language": "python",
   "name": "python3"
  },
  "language_info": {
   "codemirror_mode": {
    "name": "ipython",
    "version": 3
   },
   "file_extension": ".py",
   "mimetype": "text/x-python",
   "name": "python",
   "nbconvert_exporter": "python",
   "pygments_lexer": "ipython3",
   "version": "3.11.12"
  }
 },
 "nbformat": 4,
 "nbformat_minor": 5
}
