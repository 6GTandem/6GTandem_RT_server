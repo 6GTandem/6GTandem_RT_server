{
 "cells": [
  {
   "cell_type": "code",
   "execution_count": 1,
   "id": "f6195217",
   "metadata": {},
   "outputs": [
    {
     "name": "stdout",
     "output_type": "stream",
     "text": [
      "Sionna version: 1.0.2\n"
     ]
    }
   ],
   "source": [
    "import sionna.rt\n",
    "%matplotlib inline\n",
    "import matplotlib.pyplot as plt\n",
    "import numpy as np\n",
    "from sionna.rt import load_scene, AntennaArray, PlanarArray, Transmitter, Receiver, Camera,\\\n",
    "                      PathSolver, RadioMapSolver, subcarrier_frequencies\n",
    "\n",
    "print(\"Sionna version:\", sionna.rt.__version__)"
   ]
  },
  {
   "cell_type": "code",
   "execution_count": 2,
   "id": "dbca23d4",
   "metadata": {},
   "outputs": [
    {
     "data": {
      "text/html": [
       "<span style=\"font-family: monospace; color: #f55\">2025-06-06 12:07:48 WARN  wrk0  [HDRFilm] Monochrome mode enabled, setting film output pixel format to &apos;luminance&apos; (was rgb).</span>"
      ]
     },
     "metadata": {},
     "output_type": "display_data"
    }
   ],
   "source": [
    "# Load scene\n",
    "scene = load_scene(r\"/home/user/6GTandem_RT_server/office_space_export_v3/office_space.xml\") "
   ]
  },
  {
   "cell_type": "code",
   "execution_count": 3,
   "id": "a8f83e56",
   "metadata": {},
   "outputs": [
    {
     "data": {
      "application/vnd.jupyter.widget-view+json": {
       "model_id": "07bf4633e8c146a18d1463c417058f1a",
       "version_major": 2,
       "version_minor": 0
      },
      "text/plain": [
       "HBox(children=(Renderer(camera=PerspectiveCamera(aspect=1.31, children=(DirectionalLight(intensity=0.25, posit…"
      ]
     },
     "metadata": {},
     "output_type": "display_data"
    }
   ],
   "source": [
    "# open interactive window to preview the scene \n",
    "scene.preview();\n"
   ]
  },
  {
   "cell_type": "code",
   "execution_count": 4,
   "id": "4d6f07c7",
   "metadata": {},
   "outputs": [
    {
     "name": "stdout",
     "output_type": "stream",
     "text": [
      "no-name-1      ituf_glass\n",
      "no-name-2      ituf_metal\n",
      "Ceiling_Detail ituf_polystyrene\n",
      "no-name-3      ituf_concrete\n",
      "no-name-4      ituf_mdf\n"
     ]
    }
   ],
   "source": [
    "\n",
    "# check which materials are available in the scene\n",
    "for name, obj in scene.objects.items():\n",
    "    print(f'{name:<15}{obj.radio_material.name}')"
   ]
  },
  {
   "cell_type": "code",
   "execution_count": 5,
   "id": "652371fd",
   "metadata": {},
   "outputs": [
    {
     "name": "stdout",
     "output_type": "stream",
     "text": [
      "ituf_polystyrene\n",
      "<function ituf_polystyrene_callback at 0x7800565a7740>\n",
      "ituf_glass\n",
      "<function ituf_glass_callback at 0x7800565a7600>\n",
      "ituf_metal\n",
      "<function ituf_concrete_callback at 0x7800565a79c0>\n",
      "ituf_concrete\n",
      "<function ituf_metal_callback at 0x7800565a7c40>\n",
      "ituf_mdf\n",
      "<function ituf_mdf_callback at 0x7800565a60c0>\n"
     ]
    }
   ],
   "source": [
    "# adjust radio properties of the materials\n",
    "# define callbacks to set conductivity and relative permittivity based on ITUF materials from hexa-x\n",
    "def ituf_glass_callback(f_hz):\n",
    "  f_ghz = f_hz / 1e9\n",
    "  relative_permittivity = 6.2\n",
    "  c, d = 0.005, 1.2\n",
    "  conductivity = c*np.power(f_ghz, d)\n",
    "  return (relative_permittivity, conductivity)\n",
    "\n",
    "def ituf_concrete_callback(f_hz):\n",
    "  f_ghz = f_hz / 1e9\n",
    "  relative_permittivity = 1.9\n",
    "  c, d = 0.002, 1.3\n",
    "  conductivity = c*np.power(f_ghz, d)\n",
    "  return (relative_permittivity, conductivity)\n",
    "\n",
    "def ituf_metal_callback(f_hz):\n",
    "  f_ghz = f_hz / 1e9\n",
    "  relative_permittivity = 1.0  \n",
    "  c, d = 10**7, 0.0\n",
    "  conductivity = c*np.power(f_ghz, d)\n",
    "  return (relative_permittivity, conductivity)\n",
    "\n",
    "def ituf_polystyrene_callback(f_hz):\n",
    "  f_ghz = f_hz / 1e9\n",
    "  relative_permittivity = 1.05 #eta_r\n",
    "  c, d = 0.000008, 1.1\n",
    "  conductivity = c*np.power(f_ghz, d)\n",
    "  return (relative_permittivity, conductivity)\n",
    "\n",
    "def ituf_mdf_callback(f_hz):\n",
    "  f_ghz = f_hz / 1e9\n",
    "  relative_permittivity = 2.0 #eta_r\n",
    "  c, d = 0.005, 1.0\n",
    "  conductivity = c*np.power(f_ghz, d)\n",
    "  return (relative_permittivity, conductivity)\n",
    "\n",
    "# add callbacks to the materials\n",
    "# polystyrene\n",
    "ceiling_object = scene.get(\"Ceiling_Detail\")\n",
    "ceiling_object.radio_material.frequency_update_callback = ituf_polystyrene_callback\n",
    "print(ceiling_object.radio_material.name)\n",
    "print(ceiling_object.radio_material.frequency_update_callback)\n",
    "\n",
    "# no-name-1 => ituf_glass\n",
    "glass_objects = scene.get(\"no-name-1\")\n",
    "glass_objects.radio_material.frequency_update_callback = ituf_glass_callback\n",
    "print(glass_objects.radio_material.name)\n",
    "print(glass_objects.radio_material.frequency_update_callback)\n",
    "\n",
    "# no-name-2 => ituf_concrete\n",
    "concrete_objects = scene.get(\"no-name-2\")\n",
    "concrete_objects.radio_material.frequency_update_callback = ituf_concrete_callback\n",
    "print(concrete_objects.radio_material.name)\n",
    "print(concrete_objects.radio_material.frequency_update_callback)\n",
    "\n",
    "# no-name-3 => ituf_metal\n",
    "metal_objects = scene.get(\"no-name-3\")\n",
    "metal_objects.radio_material.frequency_update_callback = ituf_metal_callback\n",
    "print(metal_objects.radio_material.name)\n",
    "print(metal_objects.radio_material.frequency_update_callback)\n",
    "\n",
    "# no-name-4 => ituf_mdf\n",
    "metal_mdf = scene.get(\"no-name-4\")\n",
    "metal_mdf.radio_material.frequency_update_callback = ituf_mdf_callback\n",
    "print(metal_mdf.radio_material.name)\n",
    "print(metal_mdf.radio_material.frequency_update_callback)\n"
   ]
  },
  {
   "cell_type": "code",
   "execution_count": 6,
   "id": "4f9df5d2",
   "metadata": {},
   "outputs": [
    {
     "name": "stdout",
     "output_type": "stream",
     "text": [
      "---------------key='no-name-1'----------------\n",
      "\n",
      "RadioMaterial: ituf_glass @ [3.5]GHz\n",
      "Conductivity: [0.02248287]\n",
      "Relative permittivity: [6.2]\n",
      "Scattering coefficient: [0.]\n",
      "XPD coefficient: [0.]\n",
      "\n",
      "RadioMaterial: ituf_glass @ [170]GHz\n",
      "Conductivity: [2.3741536]\n",
      "Relative permittivity: [6.2]\n",
      "Scattering coefficient: [0.]\n",
      "XPD coefficient: [0.]\n",
      "---------------key='no-name-2'----------------\n",
      "\n",
      "RadioMaterial: ituf_metal @ [3.5]GHz\n",
      "Conductivity: [0.01019339]\n",
      "Relative permittivity: [1.9]\n",
      "Scattering coefficient: [0.]\n",
      "XPD coefficient: [0.]\n",
      "\n",
      "RadioMaterial: ituf_metal @ [170]GHz\n",
      "Conductivity: [1.5871336]\n",
      "Relative permittivity: [1.9]\n",
      "Scattering coefficient: [0.]\n",
      "XPD coefficient: [0.]\n",
      "---------------key='Ceiling_Detail'----------------\n",
      "\n",
      "RadioMaterial: ituf_polystyrene @ [3.5]GHz\n",
      "Conductivity: [3.1736927e-05]\n",
      "Relative permittivity: [1.05]\n",
      "Scattering coefficient: [0.]\n",
      "XPD coefficient: [0.]\n",
      "\n",
      "RadioMaterial: ituf_polystyrene @ [170]GHz\n",
      "Conductivity: [0.00227292]\n",
      "Relative permittivity: [1.05]\n",
      "Scattering coefficient: [0.]\n",
      "XPD coefficient: [0.]\n",
      "---------------key='no-name-3'----------------\n",
      "\n",
      "RadioMaterial: ituf_concrete @ [3.5]GHz\n",
      "Conductivity: [10000000.]\n",
      "Relative permittivity: [1.]\n",
      "Scattering coefficient: [0.]\n",
      "XPD coefficient: [0.]\n",
      "\n",
      "RadioMaterial: ituf_concrete @ [170]GHz\n",
      "Conductivity: [10000000.]\n",
      "Relative permittivity: [1.]\n",
      "Scattering coefficient: [0.]\n",
      "XPD coefficient: [0.]\n",
      "---------------key='no-name-4'----------------\n",
      "\n",
      "RadioMaterial: ituf_mdf @ [3.5]GHz\n",
      "Conductivity: [0.0175]\n",
      "Relative permittivity: [2.]\n",
      "Scattering coefficient: [0.]\n",
      "XPD coefficient: [0.]\n",
      "\n",
      "RadioMaterial: ituf_mdf @ [170]GHz\n",
      "Conductivity: [0.84999996]\n",
      "Relative permittivity: [2.]\n",
      "Scattering coefficient: [0.]\n",
      "XPD coefficient: [0.]\n"
     ]
    }
   ],
   "source": [
    "# check conductivity and relative permittivity at different frequencies\n",
    "# loop through material names and print them\n",
    "sub_GHz = 3.5e9\n",
    "sub_THz = 170e9\n",
    "# todo set values at 170 GHZ\n",
    "for key, value in scene.objects.items():\n",
    "    print(f'---------------{key=}----------------')\n",
    "    # Print name of assigned radio material for different frequenies\n",
    "    for f in [sub_GHz, sub_THz]: # Print for differrent frequencies\n",
    "        scene.frequency = f\n",
    "        value.radio_material.frequency_update() # update the frequency of the objects\n",
    "        print(f\"\\nRadioMaterial: {value.radio_material.name} @ {scene.frequency/1e9}GHz\")\n",
    "        print(\"Conductivity:\", value.radio_material.conductivity.numpy())\n",
    "        print(\"Relative permittivity:\", value.radio_material.relative_permittivity.numpy())\n",
    "        print(\"Scattering coefficient:\", value.radio_material.scattering_coefficient.numpy())\n",
    "        print(\"XPD coefficient:\", value.radio_material.xpd_coefficient.numpy())\n",
    "\n",
    "\n"
   ]
  },
  {
   "cell_type": "code",
   "execution_count": 7,
   "id": "3239bd04",
   "metadata": {},
   "outputs": [],
   "source": [
    "# add sub-THz stripes\n",
    "# todo add more then one tx\n",
    "\n",
    "# Configure antenna array for all transmitters\n",
    "#normalized_array_pos = np.array([[0, 0, 0], [0, 0.5, 0], [0, 1, 0], [0, 1.5, 0],\n",
    "#                                [0.5, 0, 0], [0.5, 0.5, 0], [0.5, 1, 0], [0.5, 1.5, 0],\n",
    "#                                [1.0, 0, 0], [1.0, 0.5, 0], [1.0, 1, 0], [1.0, 1.5, 0],\n",
    "#                                [1.5, 0, 0], [1.5, 0.5, 0], [1.5, 1, 0], [1.5, 1.5, 0]]) # positions in meters\n",
    "\n",
    "# pattern = sionna.rt.antenna_pattern.Dipole() # antenna pattern\n",
    "# scene.tx_array = AntennaArray( , normalized_positions=normalized_array_pos)\n",
    "# # todo check which pattern\n",
    "\n",
    "# todo change because this is in y-z plane\n",
    "scene.tx_array = PlanarArray(num_rows=4,\n",
    "                            num_cols=4,\n",
    "                            vertical_spacing=0.5,\n",
    "                            horizontal_spacing=0.5,\n",
    "                            pattern=\"dipole\",\n",
    "                            polarization=\"cross\")\n",
    "\n",
    "# Configure antenna array for all receivers\n",
    "scene.rx_array = PlanarArray(num_rows=4,\n",
    "                             num_cols=4,\n",
    "                             vertical_spacing=0.5,\n",
    "                             horizontal_spacing=0.5,\n",
    "                             pattern=\"dipole\",\n",
    "                             polarization=\"cross\")\n",
    "\n",
    "# Create transmitter\n",
    "tx_pos = [5, 10, 3.5]\n",
    "tx = Transmitter(name=\"tx\",\n",
    "                 position=tx_pos,\n",
    "                 display_radius=2)\n",
    "\n",
    "# Add transmitter instance to scene\n",
    "scene.add(tx)\n",
    "\n",
    "# Create a receiver\n",
    "rx_pos = [tx_pos[0], tx_pos[1], 1]\n",
    "rx = Receiver(name=\"rx\",\n",
    "              position=rx_pos,\n",
    "              display_radius=2)\n",
    "\n",
    "# Add receiver instance to scene\n",
    "scene.add(rx)\n",
    "\n",
    "tx.look_at([tx_pos[0], tx_pos[1], 0]) # Transmitter points downwards"
   ]
  },
  {
   "cell_type": "code",
   "execution_count": 8,
   "id": "9892bb57",
   "metadata": {},
   "outputs": [],
   "source": [
    "# Instantiate a path solver\n",
    "# The same path solver can be used with multiple scenes\n",
    "p_solver  = PathSolver()\n",
    "\n",
    "# Compute propagation paths\n",
    "paths = p_solver(scene=scene,\n",
    "                 max_depth=5,\n",
    "                 los=True,\n",
    "                 specular_reflection=True,\n",
    "                 diffuse_reflection=False,\n",
    "                 refraction=True,\n",
    "                 synthetic_array=False,\n",
    "                 seed=41)"
   ]
  },
  {
   "cell_type": "code",
   "execution_count": 9,
   "id": "d30c4af6",
   "metadata": {},
   "outputs": [
    {
     "data": {
      "application/vnd.jupyter.widget-view+json": {
       "model_id": "3bdf8328b2bf452b87ec1367ef991f93",
       "version_major": 2,
       "version_minor": 0
      },
      "text/plain": [
       "HBox(children=(Renderer(camera=PerspectiveCamera(aspect=1.31, children=(DirectionalLight(intensity=0.25, matri…"
      ]
     },
     "metadata": {},
     "output_type": "display_data"
    }
   ],
   "source": [
    "scene.preview(paths=paths, clip_at=20);"
   ]
  }
 ],
 "metadata": {
  "kernelspec": {
   "display_name": "venv",
   "language": "python",
   "name": "python3"
  },
  "language_info": {
   "codemirror_mode": {
    "name": "ipython",
    "version": 3
   },
   "file_extension": ".py",
   "mimetype": "text/x-python",
   "name": "python",
   "nbconvert_exporter": "python",
   "pygments_lexer": "ipython3",
   "version": "3.11.12"
  }
 },
 "nbformat": 4,
 "nbformat_minor": 5
}
