{
 "cells": [
  {
   "cell_type": "code",
   "execution_count": 1,
   "id": "f6195217",
   "metadata": {},
   "outputs": [],
   "source": [
    "import sionna.rt\n",
    "%matplotlib inline\n",
    "import matplotlib.pyplot as plt\n",
    "import numpy as np\n",
    "from sionna.rt import load_scene, PlanarArray, Transmitter, Receiver, Camera,\\\n",
    "                      PathSolver, RadioMapSolver, subcarrier_frequencies"
   ]
  },
  {
   "cell_type": "code",
   "execution_count": 5,
   "id": "dbca23d4",
   "metadata": {},
   "outputs": [
    {
     "data": {
      "text/html": [
       "<span style=\"font-family: monospace; color: #f55\">2025-06-05 13:51:38 WARN  wrk2  [HDRFilm] Monochrome mode enabled, setting film output pixel format to &apos;luminance&apos; (was rgb).</span>"
      ]
     },
     "metadata": {},
     "output_type": "display_data"
    }
   ],
   "source": [
    "# Load scene\n",
    "scene = load_scene(r\"/home/user/6GTandem_RT/office_space_export_v3/office_space.xml\") "
   ]
  },
  {
   "cell_type": "code",
   "execution_count": 6,
   "id": "a8f83e56",
   "metadata": {},
   "outputs": [
    {
     "data": {
      "application/vnd.jupyter.widget-view+json": {
       "model_id": "9a97b0edba71465a9c19edf286521793",
       "version_major": 2,
       "version_minor": 0
      },
      "text/plain": [
       "HBox(children=(Renderer(camera=PerspectiveCamera(aspect=1.31, children=(DirectionalLight(intensity=0.25, posit…"
      ]
     },
     "metadata": {},
     "output_type": "display_data"
    }
   ],
   "source": [
    "# open interactive window to preview the scene \n",
    "scene.preview();\n"
   ]
  },
  {
   "cell_type": "code",
   "execution_count": null,
   "id": "4f9df5d2",
   "metadata": {},
   "outputs": [
    {
     "name": "stdout",
     "output_type": "stream",
     "text": [
      "---------------key='no-name-5'----------------\n",
      "\n",
      "RadioMaterial: ituf_glass @ [3.5]GHz\n",
      "Conductivity: [0.]\n",
      "Relative permittivity: [1.]\n",
      "Scattering coefficient: [0.]\n",
      "XPD coefficient: [0.]\n",
      "\n",
      "RadioMaterial: ituf_glass @ [170]GHz\n",
      "Conductivity: [0.]\n",
      "Relative permittivity: [1.]\n",
      "Scattering coefficient: [0.]\n",
      "XPD coefficient: [0.]\n",
      "---------------key='no-name-6'----------------\n",
      "\n",
      "RadioMaterial: ituf_metal @ [3.5]GHz\n",
      "Conductivity: [0.]\n",
      "Relative permittivity: [1.]\n",
      "Scattering coefficient: [0.]\n",
      "XPD coefficient: [0.]\n",
      "\n",
      "RadioMaterial: ituf_metal @ [170]GHz\n",
      "Conductivity: [0.]\n",
      "Relative permittivity: [1.]\n",
      "Scattering coefficient: [0.]\n",
      "XPD coefficient: [0.]\n",
      "---------------key='Ceiling_Detail'----------------\n",
      "\n",
      "RadioMaterial: ituf_polystyrene @ [3.5]GHz\n",
      "Conductivity: [0.]\n",
      "Relative permittivity: [1.]\n",
      "Scattering coefficient: [0.]\n",
      "XPD coefficient: [0.]\n",
      "\n",
      "RadioMaterial: ituf_polystyrene @ [170]GHz\n",
      "Conductivity: [0.]\n",
      "Relative permittivity: [1.]\n",
      "Scattering coefficient: [0.]\n",
      "XPD coefficient: [0.]\n",
      "---------------key='no-name-7'----------------\n",
      "\n",
      "RadioMaterial: ituf_concrete @ [3.5]GHz\n",
      "Conductivity: [0.]\n",
      "Relative permittivity: [1.]\n",
      "Scattering coefficient: [0.]\n",
      "XPD coefficient: [0.]\n",
      "\n",
      "RadioMaterial: ituf_concrete @ [170]GHz\n",
      "Conductivity: [0.]\n",
      "Relative permittivity: [1.]\n",
      "Scattering coefficient: [0.]\n",
      "XPD coefficient: [0.]\n",
      "---------------key='no-name-8'----------------\n",
      "\n",
      "RadioMaterial: ituf_mdf @ [3.5]GHz\n",
      "Conductivity: [0.]\n",
      "Relative permittivity: [1.]\n",
      "Scattering coefficient: [0.]\n",
      "XPD coefficient: [0.]\n",
      "\n",
      "RadioMaterial: ituf_mdf @ [170]GHz\n",
      "Conductivity: [0.]\n",
      "Relative permittivity: [1.]\n",
      "Scattering coefficient: [0.]\n",
      "XPD coefficient: [0.]\n"
     ]
    }
   ],
   "source": [
    "# loop through material names and print them\n",
    "sub_GHz = 3.5e9\n",
    "sub_THz = 170e9\n",
    "# todo set values at 170 GHZ\n",
    "for key, value in scene.objects.items():\n",
    "    print(f'---------------{key=}----------------')\n",
    "    # Print name of assigned radio material for different frequenies\n",
    "    for f in [sub_GHz, sub_THz]: # Print for differrent frequencies\n",
    "        scene.frequency = f\n",
    "        value.radio_material.frequency_update() # update the frequency of the objects\n",
    "        print(f\"\\nRadioMaterial: {value.radio_material.name} @ {scene.frequency/1e9}GHz\")\n",
    "        print(\"Conductivity:\", value.radio_material.conductivity.numpy())\n",
    "        print(\"Relative permittivity:\", value.radio_material.relative_permittivity.numpy())\n",
    "        print(\"Scattering coefficient:\", value.radio_material.scattering_coefficient.numpy())\n",
    "        print(\"XPD coefficient:\", value.radio_material.xpd_coefficient.numpy())\n",
    "\n",
    "\n"
   ]
  },
  {
   "cell_type": "code",
   "execution_count": null,
   "id": "a2ed22fa",
   "metadata": {},
   "outputs": [],
   "source": [
    "# adjust radio properties of the materials\n",
    "# define ITUF materials from hexa-x\n",
    "\n",
    "def ituf_concrete_callback(f_hz):\n",
    "  f_ghz = f_hz / 1e9\n",
    "  relative_permittivity = 1.9\n",
    "  c, d = 0.002, 1.3\n",
    "  conductivity = c*np.power(f_ghz, d)\n",
    "  return (relative_permittivity, conductivity)\n",
    "\n",
    "def ituf_mdf_callback(f_hz):\n",
    "  f_ghz = f_hz / 1e9\n",
    "  relative_permittivity = 2.0 #eta_r\n",
    "  c, d = 0.005, 1.0\n",
    "  conductivity = c*np.power(f_ghz, d)\n",
    "  return (relative_permittivity, conductivity)\n",
    "\n",
    "\n",
    "# add new materials to the scene\n",
    "ituf_concrete = sionna.rt.RadioMaterial(\"ituf_concrete\")\n",
    "ituf_concrete.frequency_update_callback = ituf_concrete_callback\n",
    "ituf_mdf = sionna.rt.RadioMaterial(\"ituf_mdf\")\n",
    "ituf_mdf.frequency_update_callback = ituf_mdf_callback\n"
   ]
  },
  {
   "cell_type": "code",
   "execution_count": 21,
   "id": "67a32487",
   "metadata": {},
   "outputs": [
    {
     "name": "stdout",
     "output_type": "stream",
     "text": [
      "---------------key='no-name-5'----------------\n",
      "\n",
      "RadioMaterial: ituf_glass @ [3.5]GHz\n",
      "Conductivity: [0.]\n",
      "Relative permittivity: [1.]\n",
      "Scattering coefficient: [0.]\n",
      "XPD coefficient: [0.]\n",
      "\n",
      "RadioMaterial: ituf_glass @ [170]GHz\n",
      "Conductivity: [0.]\n",
      "Relative permittivity: [1.]\n",
      "Scattering coefficient: [0.]\n",
      "XPD coefficient: [0.]\n",
      "---------------key='no-name-6'----------------\n",
      "\n",
      "RadioMaterial: ituf_metal @ [3.5]GHz\n",
      "Conductivity: [0.]\n",
      "Relative permittivity: [1.]\n",
      "Scattering coefficient: [0.]\n",
      "XPD coefficient: [0.]\n",
      "\n",
      "RadioMaterial: ituf_metal @ [170]GHz\n",
      "Conductivity: [0.]\n",
      "Relative permittivity: [1.]\n",
      "Scattering coefficient: [0.]\n",
      "XPD coefficient: [0.]\n",
      "---------------key='Ceiling_Detail'----------------\n",
      "\n",
      "RadioMaterial: ituf_polystyrene @ [3.5]GHz\n",
      "Conductivity: [0.]\n",
      "Relative permittivity: [1.]\n",
      "Scattering coefficient: [0.]\n",
      "XPD coefficient: [0.]\n",
      "\n",
      "RadioMaterial: ituf_polystyrene @ [170]GHz\n",
      "Conductivity: [0.]\n",
      "Relative permittivity: [1.]\n",
      "Scattering coefficient: [0.]\n",
      "XPD coefficient: [0.]\n",
      "---------------key='no-name-7'----------------\n",
      "\n",
      "RadioMaterial: ituf_concrete @ [3.5]GHz\n",
      "Conductivity: [0.]\n",
      "Relative permittivity: [1.]\n",
      "Scattering coefficient: [0.]\n",
      "XPD coefficient: [0.]\n",
      "\n",
      "RadioMaterial: ituf_concrete @ [170]GHz\n",
      "Conductivity: [0.]\n",
      "Relative permittivity: [1.]\n",
      "Scattering coefficient: [0.]\n",
      "XPD coefficient: [0.]\n",
      "---------------key='no-name-8'----------------\n",
      "\n",
      "RadioMaterial: ituf_mdf @ [3.5]GHz\n",
      "Conductivity: [0.]\n",
      "Relative permittivity: [1.]\n",
      "Scattering coefficient: [0.]\n",
      "XPD coefficient: [0.]\n",
      "\n",
      "RadioMaterial: ituf_mdf @ [170]GHz\n",
      "Conductivity: [0.]\n",
      "Relative permittivity: [1.]\n",
      "Scattering coefficient: [0.]\n",
      "XPD coefficient: [0.]\n"
     ]
    }
   ],
   "source": [
    "# loop through material names and print them to see material updates\n",
    "sub_GHz = 3.5e9\n",
    "sub_THz = 170e9\n",
    "# todo set values at 170 GHZ\n",
    "for key, value in scene.objects.items():\n",
    "    print(f'---------------{key=}----------------')\n",
    "    # Print name of assigned radio material for different frequenies\n",
    "    for f in [sub_GHz, sub_THz]: # Print for differrent frequencies\n",
    "        scene.frequency = f\n",
    "        value.radio_material.frequency_update() # update the frequency of the objects\n",
    "        print(f\"\\nRadioMaterial: {value.radio_material.name} @ {scene.frequency/1e9}GHz\")\n",
    "        print(\"Conductivity:\", value.radio_material.conductivity.numpy())\n",
    "        print(\"Relative permittivity:\", value.radio_material.relative_permittivity.numpy())\n",
    "        print(\"Scattering coefficient:\", value.radio_material.scattering_coefficient.numpy())\n",
    "        print(\"XPD coefficient:\", value.radio_material.xpd_coefficient.numpy())"
   ]
  }
 ],
 "metadata": {
  "kernelspec": {
   "display_name": "venv",
   "language": "python",
   "name": "python3"
  },
  "language_info": {
   "codemirror_mode": {
    "name": "ipython",
    "version": 3
   },
   "file_extension": ".py",
   "mimetype": "text/x-python",
   "name": "python",
   "nbconvert_exporter": "python",
   "pygments_lexer": "ipython3",
   "version": "3.11.12"
  }
 },
 "nbformat": 4,
 "nbformat_minor": 5
}
